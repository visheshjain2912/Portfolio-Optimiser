{
  "nbformat": 4,
  "nbformat_minor": 0,
  "metadata": {
    "colab": {
      "name": "PortfolioOptimiser.ipynb",
      "provenance": [],
      "collapsed_sections": [],
      "authorship_tag": "ABX9TyMV0T+JbW4RbpXnfXD2qlUW",
      "include_colab_link": true
    },
    "kernelspec": {
      "name": "python3",
      "display_name": "Python 3"
    },
    "language_info": {
      "name": "python"
    }
  },
  "cells": [
    {
      "cell_type": "markdown",
      "metadata": {
        "id": "view-in-github",
        "colab_type": "text"
      },
      "source": [
        "<a href=\"https://colab.research.google.com/github/visheshjain2912/Portfolio-Optimiser/blob/main/PortfolioOptimiser.ipynb\" target=\"_parent\"><img src=\"https://colab.research.google.com/assets/colab-badge.svg\" alt=\"Open In Colab\"/></a>"
      ]
    },
    {
      "cell_type": "markdown",
      "metadata": {
        "id": "UoNtYqG9Ncmk"
      },
      "source": [
        "#**Description**: \n",
        "\n",
        "* The Optimisation of stock portfolio is something that plays a very significant role while investing in stocks.\n",
        "\n",
        "* By optimising stock portfolio, we can maximise our annual returns and earn good profit. \n",
        "\n",
        "* The following program attempts to optimise the stock portfolio of the user using Efficiet Frontier.\n",
        "\n",
        "* We will be applying the concept of maximising Sharpe Ratio to do so."
      ]
    },
    {
      "cell_type": "code",
      "metadata": {
        "id": "UDNnoQ7OL70a"
      },
      "source": [
        "#Importing python libraries\n",
        "from pandas_datareader import data as web\n",
        "import pandas as pd\n",
        "import numpy as np\n",
        "from datetime import datetime\n",
        "import matplotlib.pyplot as plt\n",
        "plt.style.use('bmh')"
      ],
      "execution_count": 1,
      "outputs": []
    },
    {
      "cell_type": "markdown",
      "metadata": {
        "id": "2khjUe_uOj6T"
      },
      "source": [
        "###Get the stock symbols/tickers in the portfolio\n",
        "\n",
        "Here, we will take a finctional portfolio of **FAANG**.\n",
        "\n",
        "*FAANG* is an acronym referring to 5 best performing technology related American stocks, namely \n",
        "\n",
        "\n",
        "1.   Facebook\n",
        "2.   Amazon\n",
        "3.   Apple\n",
        "4.   Netflix\n",
        "5.   Google\n",
        "\n"
      ]
    },
    {
      "cell_type": "code",
      "metadata": {
        "id": "92hJCq6kOeUl"
      },
      "source": [
        "assets = ['FB', 'AMZN', 'AAPL', 'NFLX', 'GOOG']"
      ],
      "execution_count": 2,
      "outputs": []
    },
    {
      "cell_type": "markdown",
      "metadata": {
        "id": "MuzZejMOPvPv"
      },
      "source": [
        "###Now, let's assign weights to the stocks.\n",
        "\n",
        "Initially, all the stocks will have same weights which should add up to 1.\n",
        "\n",
        "All the stocks having same weights initially signifies that we are not being partial to a particular stock.\n",
        "\n",
        "So, the weights for the each stock here will be 1/5 = 0.2"
      ]
    },
    {
      "cell_type": "code",
      "metadata": {
        "id": "ZUPqzKs2Qe3P"
      },
      "source": [
        "weights = np.array([0.2, 0.2, 0.2, 0.2, 0.2])"
      ],
      "execution_count": 3,
      "outputs": []
    },
    {
      "cell_type": "markdown",
      "metadata": {
        "id": "aZFl9agNRRE0"
      },
      "source": [
        "### Now, get the stock portfolio starting date."
      ]
    },
    {
      "cell_type": "code",
      "metadata": {
        "id": "L2nWg9kPRWY5"
      },
      "source": [
        "startingDate = '2015-01-01'"
      ],
      "execution_count": 4,
      "outputs": []
    },
    {
      "cell_type": "markdown",
      "metadata": {
        "id": "XHdfjqopRebE"
      },
      "source": [
        "###Now, get the stock portfolio ending date which is **today**"
      ]
    },
    {
      "cell_type": "code",
      "metadata": {
        "colab": {
          "base_uri": "https://localhost:8080/",
          "height": 35
        },
        "id": "JdkvcIjJR1vf",
        "outputId": "535a5811-466b-4a0d-d079-6631e4a44435"
      },
      "source": [
        "today = datetime.today().strftime('%Y-%m-%d')\n",
        "today"
      ],
      "execution_count": 5,
      "outputs": [
        {
          "output_type": "execute_result",
          "data": {
            "application/vnd.google.colaboratory.intrinsic+json": {
              "type": "string"
            },
            "text/plain": [
              "'2021-06-29'"
            ]
          },
          "metadata": {
            "tags": []
          },
          "execution_count": 5
        }
      ]
    },
    {
      "cell_type": "markdown",
      "metadata": {
        "id": "oSAdqs1uSXYr"
      },
      "source": [
        "###Now, we will create a dataframe to store the adjusted close price of the stocks chosen for our portfolio since starting date till today. We will use Yahoo Finance for the data we need.\n",
        "\n"
      ]
    },
    {
      "cell_type": "code",
      "metadata": {
        "colab": {
          "base_uri": "https://localhost:8080/",
          "height": 448
        },
        "id": "jF2nTZ1SStg_",
        "outputId": "a6d36db4-7346-424c-9bc6-4baf69764ef8"
      },
      "source": [
        "#Create a dataframe to store the adjusted close price of stocks\n",
        "df = pd.DataFrame()\n",
        "\n",
        "#Store the adjusted close price of the stocks in df\n",
        "for stock in assets:\n",
        "  df[stock] = web.DataReader(stock, data_source = 'yahoo', start = startingDate, end = today)['Adj Close']\n",
        "\n",
        "#Let's take a look at the dataframe\n",
        "df"
      ],
      "execution_count": 6,
      "outputs": [
        {
          "output_type": "execute_result",
          "data": {
            "text/html": [
              "<div>\n",
              "<style scoped>\n",
              "    .dataframe tbody tr th:only-of-type {\n",
              "        vertical-align: middle;\n",
              "    }\n",
              "\n",
              "    .dataframe tbody tr th {\n",
              "        vertical-align: top;\n",
              "    }\n",
              "\n",
              "    .dataframe thead th {\n",
              "        text-align: right;\n",
              "    }\n",
              "</style>\n",
              "<table border=\"1\" class=\"dataframe\">\n",
              "  <thead>\n",
              "    <tr style=\"text-align: right;\">\n",
              "      <th></th>\n",
              "      <th>FB</th>\n",
              "      <th>AMZN</th>\n",
              "      <th>AAPL</th>\n",
              "      <th>NFLX</th>\n",
              "      <th>GOOG</th>\n",
              "    </tr>\n",
              "    <tr>\n",
              "      <th>Date</th>\n",
              "      <th></th>\n",
              "      <th></th>\n",
              "      <th></th>\n",
              "      <th></th>\n",
              "      <th></th>\n",
              "    </tr>\n",
              "  </thead>\n",
              "  <tbody>\n",
              "    <tr>\n",
              "      <th>2015-01-02</th>\n",
              "      <td>78.449997</td>\n",
              "      <td>308.519989</td>\n",
              "      <td>24.819241</td>\n",
              "      <td>49.848572</td>\n",
              "      <td>523.373108</td>\n",
              "    </tr>\n",
              "    <tr>\n",
              "      <th>2015-01-05</th>\n",
              "      <td>77.190002</td>\n",
              "      <td>302.190002</td>\n",
              "      <td>24.120045</td>\n",
              "      <td>47.311428</td>\n",
              "      <td>512.463013</td>\n",
              "    </tr>\n",
              "    <tr>\n",
              "      <th>2015-01-06</th>\n",
              "      <td>76.150002</td>\n",
              "      <td>295.290009</td>\n",
              "      <td>24.122320</td>\n",
              "      <td>46.501431</td>\n",
              "      <td>500.585632</td>\n",
              "    </tr>\n",
              "    <tr>\n",
              "      <th>2015-01-07</th>\n",
              "      <td>76.150002</td>\n",
              "      <td>298.420013</td>\n",
              "      <td>24.460564</td>\n",
              "      <td>46.742859</td>\n",
              "      <td>499.727997</td>\n",
              "    </tr>\n",
              "    <tr>\n",
              "      <th>2015-01-08</th>\n",
              "      <td>78.180000</td>\n",
              "      <td>300.459991</td>\n",
              "      <td>25.400398</td>\n",
              "      <td>47.779999</td>\n",
              "      <td>501.303680</td>\n",
              "    </tr>\n",
              "    <tr>\n",
              "      <th>...</th>\n",
              "      <td>...</td>\n",
              "      <td>...</td>\n",
              "      <td>...</td>\n",
              "      <td>...</td>\n",
              "      <td>...</td>\n",
              "    </tr>\n",
              "    <tr>\n",
              "      <th>2021-06-22</th>\n",
              "      <td>339.029999</td>\n",
              "      <td>3505.439941</td>\n",
              "      <td>133.979996</td>\n",
              "      <td>508.820007</td>\n",
              "      <td>2539.989990</td>\n",
              "    </tr>\n",
              "    <tr>\n",
              "      <th>2021-06-23</th>\n",
              "      <td>340.589996</td>\n",
              "      <td>3503.820068</td>\n",
              "      <td>133.699997</td>\n",
              "      <td>512.739990</td>\n",
              "      <td>2529.229980</td>\n",
              "    </tr>\n",
              "    <tr>\n",
              "      <th>2021-06-24</th>\n",
              "      <td>343.179993</td>\n",
              "      <td>3449.080078</td>\n",
              "      <td>133.410004</td>\n",
              "      <td>518.059998</td>\n",
              "      <td>2545.639893</td>\n",
              "    </tr>\n",
              "    <tr>\n",
              "      <th>2021-06-25</th>\n",
              "      <td>341.369995</td>\n",
              "      <td>3401.459961</td>\n",
              "      <td>133.110001</td>\n",
              "      <td>527.070007</td>\n",
              "      <td>2539.899902</td>\n",
              "    </tr>\n",
              "    <tr>\n",
              "      <th>2021-06-28</th>\n",
              "      <td>355.640015</td>\n",
              "      <td>3443.889893</td>\n",
              "      <td>134.779999</td>\n",
              "      <td>533.030029</td>\n",
              "      <td>2536.389893</td>\n",
              "    </tr>\n",
              "  </tbody>\n",
              "</table>\n",
              "<p>1633 rows × 5 columns</p>\n",
              "</div>"
            ],
            "text/plain": [
              "                    FB         AMZN        AAPL        NFLX         GOOG\n",
              "Date                                                                    \n",
              "2015-01-02   78.449997   308.519989   24.819241   49.848572   523.373108\n",
              "2015-01-05   77.190002   302.190002   24.120045   47.311428   512.463013\n",
              "2015-01-06   76.150002   295.290009   24.122320   46.501431   500.585632\n",
              "2015-01-07   76.150002   298.420013   24.460564   46.742859   499.727997\n",
              "2015-01-08   78.180000   300.459991   25.400398   47.779999   501.303680\n",
              "...                ...          ...         ...         ...          ...\n",
              "2021-06-22  339.029999  3505.439941  133.979996  508.820007  2539.989990\n",
              "2021-06-23  340.589996  3503.820068  133.699997  512.739990  2529.229980\n",
              "2021-06-24  343.179993  3449.080078  133.410004  518.059998  2545.639893\n",
              "2021-06-25  341.369995  3401.459961  133.110001  527.070007  2539.899902\n",
              "2021-06-28  355.640015  3443.889893  134.779999  533.030029  2536.389893\n",
              "\n",
              "[1633 rows x 5 columns]"
            ]
          },
          "metadata": {
            "tags": []
          },
          "execution_count": 6
        }
      ]
    },
    {
      "cell_type": "markdown",
      "metadata": {
        "id": "Tt17oqv1UEtb"
      },
      "source": [
        "#**Let's visualise our stock portfolio**"
      ]
    },
    {
      "cell_type": "code",
      "metadata": {
        "colab": {
          "base_uri": "https://localhost:8080/",
          "height": 296
        },
        "id": "sAO-pEdWUOkT",
        "outputId": "53fee1ec-ca43-4135-dc0a-283149472262"
      },
      "source": [
        "#Let's plot the graph\n",
        "for c in df.columns.values:\n",
        "  plt.plot(df[c], label = c)\n",
        "\n",
        "plt.title('Portfolio Adjusted Close Price History')\n",
        "plt.xlabel('Date')\n",
        "plt.ylabel('Adj. Close Price in USD')\n",
        "plt.legend(df.columns.values, loc = 'upper left')\n",
        "plt.show()"
      ],
      "execution_count": 7,
      "outputs": [
        {
          "output_type": "display_data",
          "data": {
            "image/png": "[encoded data removed]",
            "text/plain": [
              "<Figure size 432x288 with 1 Axes>"
            ]
          },
          "metadata": {
            "tags": [],
            "needs_background": "light"
          }
        }
      ]
    },
    {
      "cell_type": "markdown",
      "metadata": {
        "id": "cSvoD0bzWllp"
      },
      "source": [
        "###Now, let's take a look at the daily returns of the stocks"
      ]
    },
    {
      "cell_type": "code",
      "metadata": {
        "colab": {
          "base_uri": "https://localhost:8080/",
          "height": 448
        },
        "id": "W9ilXxlKWrzC",
        "outputId": "4e26ca79-321f-4d76-e39d-e4b82b9767fc"
      },
      "source": [
        "returns = df.pct_change()\n",
        "returns"
      ],
      "execution_count": 8,
      "outputs": [
        {
          "output_type": "execute_result",
          "data": {
            "text/html": [
              "<div>\n",
              "<style scoped>\n",
              "    .dataframe tbody tr th:only-of-type {\n",
              "        vertical-align: middle;\n",
              "    }\n",
              "\n",
              "    .dataframe tbody tr th {\n",
              "        vertical-align: top;\n",
              "    }\n",
              "\n",
              "    .dataframe thead th {\n",
              "        text-align: right;\n",
              "    }\n",
              "</style>\n",
              "<table border=\"1\" class=\"dataframe\">\n",
              "  <thead>\n",
              "    <tr style=\"text-align: right;\">\n",
              "      <th></th>\n",
              "      <th>FB</th>\n",
              "      <th>AMZN</th>\n",
              "      <th>AAPL</th>\n",
              "      <th>NFLX</th>\n",
              "      <th>GOOG</th>\n",
              "    </tr>\n",
              "    <tr>\n",
              "      <th>Date</th>\n",
              "      <th></th>\n",
              "      <th></th>\n",
              "      <th></th>\n",
              "      <th></th>\n",
              "      <th></th>\n",
              "    </tr>\n",
              "  </thead>\n",
              "  <tbody>\n",
              "    <tr>\n",
              "      <th>2015-01-02</th>\n",
              "      <td>NaN</td>\n",
              "      <td>NaN</td>\n",
              "      <td>NaN</td>\n",
              "      <td>NaN</td>\n",
              "      <td>NaN</td>\n",
              "    </tr>\n",
              "    <tr>\n",
              "      <th>2015-01-05</th>\n",
              "      <td>-0.016061</td>\n",
              "      <td>-0.020517</td>\n",
              "      <td>-0.028172</td>\n",
              "      <td>-0.050897</td>\n",
              "      <td>-0.020846</td>\n",
              "    </tr>\n",
              "    <tr>\n",
              "      <th>2015-01-06</th>\n",
              "      <td>-0.013473</td>\n",
              "      <td>-0.022833</td>\n",
              "      <td>0.000094</td>\n",
              "      <td>-0.017121</td>\n",
              "      <td>-0.023177</td>\n",
              "    </tr>\n",
              "    <tr>\n",
              "      <th>2015-01-07</th>\n",
              "      <td>0.000000</td>\n",
              "      <td>0.010600</td>\n",
              "      <td>0.014022</td>\n",
              "      <td>0.005192</td>\n",
              "      <td>-0.001713</td>\n",
              "    </tr>\n",
              "    <tr>\n",
              "      <th>2015-01-08</th>\n",
              "      <td>0.026658</td>\n",
              "      <td>0.006836</td>\n",
              "      <td>0.038422</td>\n",
              "      <td>0.022188</td>\n",
              "      <td>0.003153</td>\n",
              "    </tr>\n",
              "    <tr>\n",
              "      <th>...</th>\n",
              "      <td>...</td>\n",
              "      <td>...</td>\n",
              "      <td>...</td>\n",
              "      <td>...</td>\n",
              "      <td>...</td>\n",
              "    </tr>\n",
              "    <tr>\n",
              "      <th>2021-06-22</th>\n",
              "      <td>0.020283</td>\n",
              "      <td>0.014905</td>\n",
              "      <td>0.012698</td>\n",
              "      <td>0.023783</td>\n",
              "      <td>0.004306</td>\n",
              "    </tr>\n",
              "    <tr>\n",
              "      <th>2021-06-23</th>\n",
              "      <td>0.004601</td>\n",
              "      <td>-0.000462</td>\n",
              "      <td>-0.002090</td>\n",
              "      <td>0.007704</td>\n",
              "      <td>-0.004236</td>\n",
              "    </tr>\n",
              "    <tr>\n",
              "      <th>2021-06-24</th>\n",
              "      <td>0.007604</td>\n",
              "      <td>-0.015623</td>\n",
              "      <td>-0.002169</td>\n",
              "      <td>0.010376</td>\n",
              "      <td>0.006488</td>\n",
              "    </tr>\n",
              "    <tr>\n",
              "      <th>2021-06-25</th>\n",
              "      <td>-0.005274</td>\n",
              "      <td>-0.013807</td>\n",
              "      <td>-0.002249</td>\n",
              "      <td>0.017392</td>\n",
              "      <td>-0.002255</td>\n",
              "    </tr>\n",
              "    <tr>\n",
              "      <th>2021-06-28</th>\n",
              "      <td>0.041802</td>\n",
              "      <td>0.012474</td>\n",
              "      <td>0.012546</td>\n",
              "      <td>0.011308</td>\n",
              "      <td>-0.001382</td>\n",
              "    </tr>\n",
              "  </tbody>\n",
              "</table>\n",
              "<p>1633 rows × 5 columns</p>\n",
              "</div>"
            ],
            "text/plain": [
              "                  FB      AMZN      AAPL      NFLX      GOOG\n",
              "Date                                                        \n",
              "2015-01-02       NaN       NaN       NaN       NaN       NaN\n",
              "2015-01-05 -0.016061 -0.020517 -0.028172 -0.050897 -0.020846\n",
              "2015-01-06 -0.013473 -0.022833  0.000094 -0.017121 -0.023177\n",
              "2015-01-07  0.000000  0.010600  0.014022  0.005192 -0.001713\n",
              "2015-01-08  0.026658  0.006836  0.038422  0.022188  0.003153\n",
              "...              ...       ...       ...       ...       ...\n",
              "2021-06-22  0.020283  0.014905  0.012698  0.023783  0.004306\n",
              "2021-06-23  0.004601 -0.000462 -0.002090  0.007704 -0.004236\n",
              "2021-06-24  0.007604 -0.015623 -0.002169  0.010376  0.006488\n",
              "2021-06-25 -0.005274 -0.013807 -0.002249  0.017392 -0.002255\n",
              "2021-06-28  0.041802  0.012474  0.012546  0.011308 -0.001382\n",
              "\n",
              "[1633 rows x 5 columns]"
            ]
          },
          "metadata": {
            "tags": []
          },
          "execution_count": 8
        }
      ]
    },
    {
      "cell_type": "markdown",
      "metadata": {
        "id": "0ScSBw5OXO6t"
      },
      "source": [
        "###Now, let's create an annualised covariance matrix."
      ]
    },
    {
      "cell_type": "code",
      "metadata": {
        "colab": {
          "base_uri": "https://localhost:8080/",
          "height": 203
        },
        "id": "5xEYmx22XVki",
        "outputId": "e8529ea5-e247-40d0-fa4f-90c7f9168195"
      },
      "source": [
        "annual_cov_matrix = returns.cov() * 252\n",
        "annual_cov_matrix"
      ],
      "execution_count": 9,
      "outputs": [
        {
          "output_type": "execute_result",
          "data": {
            "text/html": [
              "<div>\n",
              "<style scoped>\n",
              "    .dataframe tbody tr th:only-of-type {\n",
              "        vertical-align: middle;\n",
              "    }\n",
              "\n",
              "    .dataframe tbody tr th {\n",
              "        vertical-align: top;\n",
              "    }\n",
              "\n",
              "    .dataframe thead th {\n",
              "        text-align: right;\n",
              "    }\n",
              "</style>\n",
              "<table border=\"1\" class=\"dataframe\">\n",
              "  <thead>\n",
              "    <tr style=\"text-align: right;\">\n",
              "      <th></th>\n",
              "      <th>FB</th>\n",
              "      <th>AMZN</th>\n",
              "      <th>AAPL</th>\n",
              "      <th>NFLX</th>\n",
              "      <th>GOOG</th>\n",
              "    </tr>\n",
              "  </thead>\n",
              "  <tbody>\n",
              "    <tr>\n",
              "      <th>FB</th>\n",
              "      <td>0.100953</td>\n",
              "      <td>0.058345</td>\n",
              "      <td>0.054207</td>\n",
              "      <td>0.059814</td>\n",
              "      <td>0.056890</td>\n",
              "    </tr>\n",
              "    <tr>\n",
              "      <th>AMZN</th>\n",
              "      <td>0.058345</td>\n",
              "      <td>0.093058</td>\n",
              "      <td>0.050321</td>\n",
              "      <td>0.068217</td>\n",
              "      <td>0.053020</td>\n",
              "    </tr>\n",
              "    <tr>\n",
              "      <th>AAPL</th>\n",
              "      <td>0.054207</td>\n",
              "      <td>0.050321</td>\n",
              "      <td>0.087012</td>\n",
              "      <td>0.051807</td>\n",
              "      <td>0.047746</td>\n",
              "    </tr>\n",
              "    <tr>\n",
              "      <th>NFLX</th>\n",
              "      <td>0.059814</td>\n",
              "      <td>0.068217</td>\n",
              "      <td>0.051807</td>\n",
              "      <td>0.177761</td>\n",
              "      <td>0.054584</td>\n",
              "    </tr>\n",
              "    <tr>\n",
              "      <th>GOOG</th>\n",
              "      <td>0.056890</td>\n",
              "      <td>0.053020</td>\n",
              "      <td>0.047746</td>\n",
              "      <td>0.054584</td>\n",
              "      <td>0.072366</td>\n",
              "    </tr>\n",
              "  </tbody>\n",
              "</table>\n",
              "</div>"
            ],
            "text/plain": [
              "            FB      AMZN      AAPL      NFLX      GOOG\n",
              "FB    0.100953  0.058345  0.054207  0.059814  0.056890\n",
              "AMZN  0.058345  0.093058  0.050321  0.068217  0.053020\n",
              "AAPL  0.054207  0.050321  0.087012  0.051807  0.047746\n",
              "NFLX  0.059814  0.068217  0.051807  0.177761  0.054584\n",
              "GOOG  0.056890  0.053020  0.047746  0.054584  0.072366"
            ]
          },
          "metadata": {
            "tags": []
          },
          "execution_count": 9
        }
      ]
    },
    {
      "cell_type": "markdown",
      "metadata": {
        "id": "hwYfHyx8aFFl"
      },
      "source": [
        "###Now, calculate the portfolio variance"
      ]
    },
    {
      "cell_type": "code",
      "metadata": {
        "colab": {
          "base_uri": "https://localhost:8080/"
        },
        "id": "uncLSkwhaNFk",
        "outputId": "c8c7f88c-7e41-4eec-80a9-301e0523599a"
      },
      "source": [
        "port_var = np.dot(weights.T, np.dot(annual_cov_matrix, weights))\n",
        "port_var"
      ],
      "execution_count": 10,
      "outputs": [
        {
          "output_type": "execute_result",
          "data": {
            "text/plain": [
              "0.06564199866408042"
            ]
          },
          "metadata": {
            "tags": []
          },
          "execution_count": 10
        }
      ]
    },
    {
      "cell_type": "markdown",
      "metadata": {
        "id": "Z5Ef5DB9ap6B"
      },
      "source": [
        "###Calculation of portfolio volatility or standard deviation"
      ]
    },
    {
      "cell_type": "code",
      "metadata": {
        "colab": {
          "base_uri": "https://localhost:8080/"
        },
        "id": "0cCn17GEaxvM",
        "outputId": "9a16f05f-1970-47c2-9ba9-499b0b8c9228"
      },
      "source": [
        "port_vol = np.sqrt(port_var);\n",
        "port_vol"
      ],
      "execution_count": 11,
      "outputs": [
        {
          "output_type": "execute_result",
          "data": {
            "text/plain": [
              "0.2562069449957991"
            ]
          },
          "metadata": {
            "tags": []
          },
          "execution_count": 11
        }
      ]
    },
    {
      "cell_type": "markdown",
      "metadata": {
        "id": "lZW-e_68bJ0v"
      },
      "source": [
        "###Calculate the annual portfolio return"
      ]
    },
    {
      "cell_type": "code",
      "metadata": {
        "colab": {
          "base_uri": "https://localhost:8080/"
        },
        "id": "gUBFqxI0bM0d",
        "outputId": "29c06c7d-2265-43d9-93d9-3de84117a174"
      },
      "source": [
        "annual_port_return = np.sum(returns.mean() * weights) * 252\n",
        "annual_port_return"
      ],
      "execution_count": 12,
      "outputs": [
        {
          "output_type": "execute_result",
          "data": {
            "text/plain": [
              "0.34834599570367614"
            ]
          },
          "metadata": {
            "tags": []
          },
          "execution_count": 12
        }
      ]
    },
    {
      "cell_type": "markdown",
      "metadata": {
        "id": "v5hFx16pbo8s"
      },
      "source": [
        "###Let's take a look at the expected returns, volatility(risk) and variance."
      ]
    },
    {
      "cell_type": "code",
      "metadata": {
        "colab": {
          "base_uri": "https://localhost:8080/"
        },
        "id": "YukeGO9EbyB7",
        "outputId": "bc72558b-31c7-4ad1-bfe2-d76659ab20e6"
      },
      "source": [
        "percent_var = str( round(port_var, 3) * 100) + '%'\n",
        "percent_vol = str( round(port_vol, 3) * 100) + '%'\n",
        "percent_return = str( round(annual_port_return, 3) * 100) + '%'\n",
        "\n",
        "print(\"Expected Annual return: \" + percent_return)\n",
        "print(\"Expected Volatility: \" + percent_vol)\n",
        "print(\"Expected Variance: \" + percent_var)"
      ],
      "execution_count": 13,
      "outputs": [
        {
          "output_type": "stream",
          "text": [
            "Expected Annual return: 34.8%\n",
            "Expected Volatility: 25.6%\n",
            "Expected Variance: 6.6000000000000005%\n"
          ],
          "name": "stdout"
        }
      ]
    },
    {
      "cell_type": "markdown",
      "metadata": {
        "id": "NokFJDPDdNvZ"
      },
      "source": [
        "## **Observation:**\n",
        "\n",
        "*   Looking at the above values, we can say that our portfolio has performed well over the time period chosen with the annual returns of nearly 35% with risk nearly 25%.\n",
        "*   But I think we can do better in terms of annual returns. So, let's dive in again to look what we can do to get better results.\n",
        "\n"
      ]
    },
    {
      "cell_type": "markdown",
      "metadata": {
        "id": "xjLVqJuLed19"
      },
      "source": [
        "###**Install PyPorlfolioOpt** to use **Efficient Frontier**\n"
      ]
    },
    {
      "cell_type": "code",
      "metadata": {
        "colab": {
          "base_uri": "https://localhost:8080/"
        },
        "id": "hdPC212Qdwb8",
        "outputId": "cc926b25-da5e-48ab-e501-79c51fd686f8"
      },
      "source": [
        "pip install PyPortfolioOpt"
      ],
      "execution_count": 14,
      "outputs": [
        {
          "output_type": "stream",
          "text": [
            "Requirement already satisfied: PyPortfolioOpt in /usr/local/lib/python3.7/dist-packages (1.4.2)\n",
            "Requirement already satisfied: numpy<2.0,>=1.12 in /usr/local/lib/python3.7/dist-packages (from PyPortfolioOpt) (1.19.5)\n",
            "Requirement already satisfied: cvxpy<2.0.0,>=1.1.10 in /usr/local/lib/python3.7/dist-packages (from PyPortfolioOpt) (1.1.13)\n",
            "Requirement already satisfied: scipy<2.0,>=1.3 in /usr/local/lib/python3.7/dist-packages (from PyPortfolioOpt) (1.4.1)\n",
            "Requirement already satisfied: pandas>=0.19 in /usr/local/lib/python3.7/dist-packages (from PyPortfolioOpt) (1.1.5)\n",
            "Requirement already satisfied: ecos>=2 in /usr/local/lib/python3.7/dist-packages (from cvxpy<2.0.0,>=1.1.10->PyPortfolioOpt) (2.0.7.post1)\n",
            "Requirement already satisfied: osqp>=0.4.1 in /usr/local/lib/python3.7/dist-packages (from cvxpy<2.0.0,>=1.1.10->PyPortfolioOpt) (0.6.2.post0)\n",
            "Requirement already satisfied: scs>=1.1.6 in /usr/local/lib/python3.7/dist-packages (from cvxpy<2.0.0,>=1.1.10->PyPortfolioOpt) (2.1.4)\n",
            "Requirement already satisfied: pytz>=2017.2 in /usr/local/lib/python3.7/dist-packages (from pandas>=0.19->PyPortfolioOpt) (2018.9)\n",
            "Requirement already satisfied: python-dateutil>=2.7.3 in /usr/local/lib/python3.7/dist-packages (from pandas>=0.19->PyPortfolioOpt) (2.8.1)\n",
            "Requirement already satisfied: qdldl in /usr/local/lib/python3.7/dist-packages (from osqp>=0.4.1->cvxpy<2.0.0,>=1.1.10->PyPortfolioOpt) (0.1.5.post0)\n",
            "Requirement already satisfied: six>=1.5 in /usr/local/lib/python3.7/dist-packages (from python-dateutil>=2.7.3->pandas>=0.19->PyPortfolioOpt) (1.15.0)\n"
          ],
          "name": "stdout"
        }
      ]
    },
    {
      "cell_type": "markdown",
      "metadata": {
        "id": "adgo1t-YeEsP"
      },
      "source": [
        "###Let's import the library which we downloaded above"
      ]
    },
    {
      "cell_type": "code",
      "metadata": {
        "id": "00If9ZEQeEEB"
      },
      "source": [
        "from pypfopt.efficient_frontier import EfficientFrontier\n",
        "from pypfopt import risk_models\n",
        "from pypfopt import expected_returns"
      ],
      "execution_count": 15,
      "outputs": []
    },
    {
      "cell_type": "markdown",
      "metadata": {
        "id": "EZZ_80wzfQYv"
      },
      "source": [
        "## **Portfolio Optimisation!**\n",
        "\n"
      ]
    },
    {
      "cell_type": "code",
      "metadata": {
        "colab": {
          "base_uri": "https://localhost:8080/"
        },
        "id": "odsbm0vkfXVL",
        "outputId": "c3a20902-a08e-4d24-83b2-261df3629869"
      },
      "source": [
        "#Calculate the expected returns and the annualised sample covariance matrix of asset returns\n",
        "mu = expected_returns.mean_historical_return(df)\n",
        "#mu stands for mean in mathematics\n",
        "\n",
        "S = risk_models.sample_cov(df)\n",
        "\n",
        "print(mu)\n",
        "print(S)"
      ],
      "execution_count": 16,
      "outputs": [
        {
          "output_type": "stream",
          "text": [
            "FB      0.262870\n",
            "AMZN    0.451401\n",
            "AAPL    0.298576\n",
            "NFLX    0.441800\n",
            "GOOG    0.275953\n",
            "dtype: float64\n",
            "            FB      AMZN      AAPL      NFLX      GOOG\n",
            "FB    0.100953  0.058345  0.054207  0.059814  0.056890\n",
            "AMZN  0.058345  0.093058  0.050321  0.068217  0.053020\n",
            "AAPL  0.054207  0.050321  0.087012  0.051807  0.047746\n",
            "NFLX  0.059814  0.068217  0.051807  0.177761  0.054584\n",
            "GOOG  0.056890  0.053020  0.047746  0.054584  0.072366\n"
          ],
          "name": "stdout"
        }
      ]
    },
    {
      "cell_type": "markdown",
      "metadata": {
        "id": "mkCs0i_jgXnJ"
      },
      "source": [
        "##Now, Optimise for the **Maximum Sharpe Ratio**\n",
        "\n",
        "* Sharpe Ratio basically tells us about how much access returns can we get for some extra amount of volatility/risk.\n",
        "\n",
        "* It basically measures the performance of a risky investment and compares it to the performance of a risk-free investment.\n",
        "\n",
        "[Click here to know more about Sharpe Ratio](https://www.investopedia.com/terms/s/sharperatio.asp)\n",
        "\n"
      ]
    },
    {
      "cell_type": "code",
      "metadata": {
        "colab": {
          "base_uri": "https://localhost:8080/"
        },
        "id": "AZy_990PgXGL",
        "outputId": "1c297df0-755c-47e7-8a2f-a1de3aab511c"
      },
      "source": [
        "ef = EfficientFrontier(mu, S)\n",
        "weights = ef.max_sharpe()\n",
        "cleaned_weights = ef.clean_weights()\n",
        "\n",
        "print(cleaned_weights)\n",
        "\n",
        "print(ef.portfolio_performance(verbose = True))"
      ],
      "execution_count": 17,
      "outputs": [
        {
          "output_type": "stream",
          "text": [
            "OrderedDict([('FB', 0.0), ('AMZN', 0.73961), ('AAPL', 0.11137), ('NFLX', 0.14902), ('GOOG', 0.0)])\n",
            "Expected annual return: 43.3%\n",
            "Annual volatility: 28.5%\n",
            "Sharpe Ratio: 1.45\n",
            "(0.4329506409953513, 0.2845673427761628, 1.4511526058004949)\n"
          ],
          "name": "stdout"
        }
      ]
    },
    {
      "cell_type": "markdown",
      "metadata": {
        "id": "5aJvCz_dizjq"
      },
      "source": [
        "# **Observation:**\n",
        "\n",
        "The results above show a clear and astonishing development.\n",
        "\n",
        "By increasing the risk by 10% of what it actually was, we get 25% more annual returns of what they actually were.\n",
        "\n",
        "\n",
        "So, we can say that now we have got a more optimised portfolio."
      ]
    },
    {
      "cell_type": "markdown",
      "metadata": {
        "id": "PjwzcHoyn6hc"
      },
      "source": [
        "###**Let's take a look that how much percentage of our money should we invest in each stock**"
      ]
    },
    {
      "cell_type": "code",
      "metadata": {
        "colab": {
          "base_uri": "https://localhost:8080/"
        },
        "id": "_4qRenORoD-b",
        "outputId": "db878aa2-cb92-4599-a260-55613ea80c88"
      },
      "source": [
        "# Convert cleaned_weights (type : Collections.OrderDict) into a list\n",
        "items = list(cleaned_weights.items())\n",
        "\n",
        "print(\"\")\n",
        "for stock in range(0,5):\n",
        "  print(items[stock][0], \"-> \", items[stock][1] * 100, \"%\")"
      ],
      "execution_count": 18,
      "outputs": [
        {
          "output_type": "stream",
          "text": [
            "\n",
            "FB ->  0.0 %\n",
            "AMZN ->  73.961 %\n",
            "AAPL ->  11.137 %\n",
            "NFLX ->  14.902000000000001 %\n",
            "GOOG ->  0.0 %\n"
          ],
          "name": "stdout"
        }
      ]
    },
    {
      "cell_type": "markdown",
      "metadata": {
        "id": "iF5ZTxY5tB_c"
      },
      "source": [
        "#**Conclusion:**\n",
        "\n",
        "\n",
        "*   By taking less risk and being impartial towards every stock in our portfolio, we will get a good annual return.\n",
        "\n",
        "*   But, by optimising the portfolio using Sharpe Ratio, we can see that taking a little bit of more risk can give us better annual return.\n",
        "\n",
        "*   We also come to know about what percentage of our money should we invest in a particular stock to get those better results.\n",
        "\n",
        "\n",
        "\n"
      ]
    }
  ]
}